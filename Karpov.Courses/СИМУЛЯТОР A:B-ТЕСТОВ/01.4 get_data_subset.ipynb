{
 "cells": [
  {
   "cell_type": "code",
   "execution_count": 1,
   "metadata": {},
   "outputs": [],
   "source": [
    "import pandas as pd\n",
    "\n",
    "from datetime import datetime\n",
    "\n",
    "\n",
    "class DataService:\n",
    "\n",
    "    def __init__(self, table_name_2_table):\n",
    "        \"\"\"Класс, предоставляющий доступ к сырым данным.\n",
    "        \n",
    "        :param table_name_2_table (dict[str, pd.DataFrame]): словарь таблиц с данными.\n",
    "            Пример, {\n",
    "                'sales': pd.DataFrame({'sale_id': ['123', ...], ...}),\n",
    "                ...\n",
    "            }. \n",
    "        \"\"\"\n",
    "        self.table_name_2_table = table_name_2_table\n",
    "\n",
    "    def get_data_subset(self, table_name, begin_date, end_date, user_ids=None, columns=None):\n",
    "        \"\"\"Возвращает подмножество данных.\n",
    "\n",
    "        :param table_name (str): название таблицы с данными.\n",
    "        :param begin_date (None, datetime.datetime): дата начала интервала с данными.\n",
    "            Пример, df[df['date'] >= begin_date].\n",
    "            Если None, то фильтровать не нужно.\n",
    "        :param end_date (None, datetime.datetime): дата окончания интервала с данными.\n",
    "            Пример, df[df['date'] < end_date].\n",
    "            Если None, то фильтровать не нужно.\n",
    "        :param user_ids (None, list[str]): список user_id, по которым нужно предоставить данные.\n",
    "            Пример, df[df['user_id'].isin(user_ids)].\n",
    "            Если None, то фильтровать по user_id не нужно.\n",
    "        :param columns (None, list[str]): список названий столбцов, по которым нужно предоставить данные.\n",
    "            Пример, df[columns].\n",
    "            Если None, то фильтровать по columns не нужно.\n",
    "\n",
    "        :return df (pd.DataFrame): датафрейм с подмножеством данных.\n",
    "        \"\"\"\n",
    "        df = self.table_name_2_table[table_name]\n",
    "        if begin_date:\n",
    "            df = df[df['date'] >= begin_date]\n",
    "        if end_date:\n",
    "            df = df[df['date'] < end_date]\n",
    "        if user_ids:\n",
    "            df = df[df['user_id'].isin(user_ids)]\n",
    "        if columns:\n",
    "            df = df[columns]\n",
    "        return df.copy()\n"
   ]
  }
 ],
 "metadata": {
  "kernelspec": {
   "display_name": "gr",
   "language": "python",
   "name": "python3"
  },
  "language_info": {
   "codemirror_mode": {
    "name": "ipython",
    "version": 3
   },
   "file_extension": ".py",
   "mimetype": "text/x-python",
   "name": "python",
   "nbconvert_exporter": "python",
   "pygments_lexer": "ipython3",
   "version": "3.12.0"
  }
 },
 "nbformat": 4,
 "nbformat_minor": 2
}
